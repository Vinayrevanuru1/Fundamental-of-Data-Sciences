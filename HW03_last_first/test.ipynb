{
 "cells": [
  {
   "cell_type": "code",
   "execution_count": 2,
   "metadata": {},
   "outputs": [],
   "source": [
    "import numpy as np\n",
    "import pandas as pd\n",
    "import sys\n",
    "import util\n",
    "import matplotlib.pyplot as plt\n"
   ]
  },
  {
   "cell_type": "code",
   "execution_count": 3,
   "metadata": {},
   "outputs": [
    {
     "data": {
      "text/html": [
       "<div>\n",
       "<style scoped>\n",
       "    .dataframe tbody tr th:only-of-type {\n",
       "        vertical-align: middle;\n",
       "    }\n",
       "\n",
       "    .dataframe tbody tr th {\n",
       "        vertical-align: top;\n",
       "    }\n",
       "\n",
       "    .dataframe thead th {\n",
       "        text-align: right;\n",
       "    }\n",
       "</style>\n",
       "<table border=\"1\" class=\"dataframe\">\n",
       "  <thead>\n",
       "    <tr style=\"text-align: right;\">\n",
       "      <th></th>\n",
       "      <th>property_id</th>\n",
       "      <th>sqft_hvac</th>\n",
       "      <th>sqft_yard</th>\n",
       "      <th>bedrooms</th>\n",
       "      <th>bathrooms</th>\n",
       "      <th>miles_to_school</th>\n",
       "      <th>price</th>\n",
       "    </tr>\n",
       "  </thead>\n",
       "  <tbody>\n",
       "    <tr>\n",
       "      <th>0</th>\n",
       "      <td>1</td>\n",
       "      <td>3100.9</td>\n",
       "      <td>18863.6</td>\n",
       "      <td>4</td>\n",
       "      <td>4</td>\n",
       "      <td>0.2</td>\n",
       "      <td>610073.22</td>\n",
       "    </tr>\n",
       "    <tr>\n",
       "      <th>1</th>\n",
       "      <td>2</td>\n",
       "      <td>5190.4</td>\n",
       "      <td>29439.1</td>\n",
       "      <td>5</td>\n",
       "      <td>6</td>\n",
       "      <td>3.3</td>\n",
       "      <td>797597.60</td>\n",
       "    </tr>\n",
       "    <tr>\n",
       "      <th>2</th>\n",
       "      <td>3</td>\n",
       "      <td>4345.3</td>\n",
       "      <td>27996.1</td>\n",
       "      <td>5</td>\n",
       "      <td>6</td>\n",
       "      <td>2.7</td>\n",
       "      <td>727644.82</td>\n",
       "    </tr>\n",
       "    <tr>\n",
       "      <th>3</th>\n",
       "      <td>4</td>\n",
       "      <td>5537.0</td>\n",
       "      <td>34059.0</td>\n",
       "      <td>6</td>\n",
       "      <td>7</td>\n",
       "      <td>2.3</td>\n",
       "      <td>932818.32</td>\n",
       "    </tr>\n",
       "    <tr>\n",
       "      <th>4</th>\n",
       "      <td>5</td>\n",
       "      <td>2130.2</td>\n",
       "      <td>15937.6</td>\n",
       "      <td>3</td>\n",
       "      <td>5</td>\n",
       "      <td>4.7</td>\n",
       "      <td>579150.37</td>\n",
       "    </tr>\n",
       "  </tbody>\n",
       "</table>\n",
       "</div>"
      ],
      "text/plain": [
       "   property_id  sqft_hvac  sqft_yard  bedrooms  bathrooms  miles_to_school  \\\n",
       "0            1     3100.9    18863.6         4          4              0.2   \n",
       "1            2     5190.4    29439.1         5          6              3.3   \n",
       "2            3     4345.3    27996.1         5          6              2.7   \n",
       "3            4     5537.0    34059.0         6          7              2.3   \n",
       "4            5     2130.2    15937.6         3          5              4.7   \n",
       "\n",
       "       price  \n",
       "0  610073.22  \n",
       "1  797597.60  \n",
       "2  727644.82  \n",
       "3  932818.32  \n",
       "4  579150.37  "
      ]
     },
     "execution_count": 3,
     "metadata": {},
     "output_type": "execute_result"
    }
   ],
   "source": [
    "\n",
    "\n",
    "\n",
    "\n",
    "\n",
    "\n",
    "data = pd.read_excel('properties.xlsx')\n",
    "data.head()\n",
    "\n",
    "\n",
    "\n"
   ]
  },
  {
   "cell_type": "code",
   "execution_count": null,
   "metadata": {},
   "outputs": [],
   "source": []
  }
 ],
 "metadata": {
  "kernelspec": {
   "display_name": "Python 3.9.12 ('base')",
   "language": "python",
   "name": "python3"
  },
  "language_info": {
   "codemirror_mode": {
    "name": "ipython",
    "version": 3
   },
   "file_extension": ".py",
   "mimetype": "text/x-python",
   "name": "python",
   "nbconvert_exporter": "python",
   "pygments_lexer": "ipython3",
   "version": "3.9.12"
  },
  "orig_nbformat": 4,
  "vscode": {
   "interpreter": {
    "hash": "ad2bdc8ecc057115af97d19610ffacc2b4e99fae6737bb82f5d7fb13d2f2c186"
   }
  }
 },
 "nbformat": 4,
 "nbformat_minor": 2
}
